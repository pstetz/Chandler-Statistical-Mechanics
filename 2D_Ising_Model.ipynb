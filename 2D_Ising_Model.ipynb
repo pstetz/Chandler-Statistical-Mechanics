{
 "cells": [
  {
   "cell_type": "markdown",
   "metadata": {},
   "source": [
    "### Imports"
   ]
  },
  {
   "cell_type": "code",
   "execution_count": 1,
   "metadata": {
    "collapsed": true
   },
   "outputs": [],
   "source": [
    "import numpy as np\n",
    "import math\n",
    "\n",
    "import matplotlib.pyplot as plt\n",
    "import seaborn as sns\n",
    "%matplotlib inline\n",
    "sns.set()"
   ]
  },
  {
   "cell_type": "markdown",
   "metadata": {},
   "source": [
    "### Monte Carlo Program for the Two-Dimensional Ising Model"
   ]
  },
  {
   "cell_type": "code",
   "execution_count": 13,
   "metadata": {},
   "outputs": [
    {
     "data": {
      "image/png": "[encoded data removed]",
      "text/plain": [
       "<matplotlib.figure.Figure at 0x1a195fa860>"
      ]
     },
     "metadata": {},
     "output_type": "display_data"
    }
   ],
   "source": [
    "class Two_D_Ising:\n",
    "\n",
    "    def __init__(self, N, is_random=False):\n",
    "        self.N = N\n",
    "        if is_random:\n",
    "            system = np.random.uniform(0, 1, size=(N, N)).round()\n",
    "            system = (2 * system) - 1\n",
    "            self.system = system.astype(np.int16)\n",
    "        else:\n",
    "            assert N % 2 == 0, \"N must be even for pure state initialization\"\n",
    "            up   = np.ones(shape=(N, int(N/2)))\n",
    "            down = -1 * np.ones(shape=(N, int(N/2)))\n",
    "            self.system = np.hstack([up, down])\n",
    "\n",
    "    def valid_coords(self, row, col, i, j):\n",
    "        N = self.N\n",
    "        return (row + i < N and col + j < N and row + i > 0 and col + j > 0)\n",
    "\n",
    "    def sum_nearby(self):\n",
    "        r = self.row\n",
    "        c = self.col\n",
    "        nearby = [(-1, 0), (1, 0), (0, -1), (0, 1)]\n",
    "        return sum([self.system[r + i][c + j] for i, j in nearby if self.valid_coords(r, c, i, j)])\n",
    "    \n",
    "    def swap(self):\n",
    "        self.system[self.row][self.col] *= -1\n",
    "\n",
    "    def disorder_system(self, num_moves, temperature):\n",
    "        beta = 1 / temperature\n",
    "        for _ in range(num_moves):\n",
    "            self.row = np.random.randint(0, high=self.N-1)\n",
    "            self.col = np.random.randint(0, high=self.N-1)\n",
    "            \n",
    "            spin = self.system[self.row][self.col]\n",
    "            cost = 2 * spin * self.sum_nearby()\n",
    "            if cost < 0:\n",
    "                self.swap()\n",
    "            else:\n",
    "                sample = np.random.uniform()\n",
    "                prob   = np.exp(-beta * cost)\n",
    "                if sample < prob:\n",
    "                    self.swap()\n",
    "\n",
    "num_moves   = 1000000\n",
    "temperature = 1\n",
    "                    \n",
    "model = Two_D_Ising(N = 200, is_random = True)\n",
    "model.disorder_system(num_moves, temperature)\n",
    "\n",
    "plt.figure(figsize=(8, 8))\n",
    "plt.matshow(model.system, cmap=\"winter\", fignum=1)\n",
    "plt.axis('off')\n",
    "plt.title(f\"System after {num_moves} moves at temperature {temperature}\", fontsize=18);"
   ]
  },
  {
   "cell_type": "code",
   "execution_count": null,
   "metadata": {
    "collapsed": true
   },
   "outputs": [],
   "source": []
  }
 ],
 "metadata": {
  "kernelspec": {
   "display_name": "Python 3",
   "language": "python",
   "name": "python3"
  },
  "language_info": {
   "codemirror_mode": {
    "name": "ipython",
    "version": 3
   },
   "file_extension": ".py",
   "mimetype": "text/x-python",
   "name": "python",
   "nbconvert_exporter": "python",
   "pygments_lexer": "ipython3",
   "version": "3.6.3"
  }
 },
 "nbformat": 4,
 "nbformat_minor": 2
}
