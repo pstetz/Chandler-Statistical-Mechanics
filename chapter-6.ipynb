{
 "cells": [
  {
   "cell_type": "markdown",
   "metadata": {},
   "source": [
    "### Imports\n",
    "\n",
    "<style TYPE=\"text/css\">\n",
    "code.has-jax {font: inherit; font-size: 100%; background: inherit; border: inherit;}\n",
    "</style>\n",
    "<script type=\"text/x-mathjax-config\">\n",
    "MathJax.Hub.Config({\n",
    "    tex2jax: {\n",
    "        inlineMath: [['$','$'], ['\\\\(','\\\\)']],\n",
    "        skipTags: ['script', 'noscript', 'style', 'textarea', 'pre'] // removed 'code' entry\n",
    "    }\n",
    "});\n",
    "MathJax.Hub.Queue(function() {\n",
    "    var all = MathJax.Hub.getAllJax(), i;\n",
    "    for(i = 0; i < all.length; i += 1) {\n",
    "        all[i].SourceElement().parentNode.className += ' has-jax';\n",
    "    }\n",
    "});\n",
    "</script>\n",
    "<script type=\"text/javascript\" src=\"http://cdn.mathjax.org/mathjax/latest/MathJax.js?config=TeX-AMS-MML_HTMLorMML\"></script>"
   ]
  },
  {
   "cell_type": "code",
   "execution_count": 1,
   "metadata": {},
   "outputs": [
    {
     "data": {
      "text/html": [
       "<script>requirejs.config({paths: { 'plotly': ['https://cdn.plot.ly/plotly-latest.min']},});if(!window.Plotly) {{require(['plotly'],function(plotly) {window.Plotly=plotly;});}}</script>"
      ],
      "text/vnd.plotly.v1+html": [
       "<script>requirejs.config({paths: { 'plotly': ['https://cdn.plot.ly/plotly-latest.min']},});if(!window.Plotly) {{require(['plotly'],function(plotly) {window.Plotly=plotly;});}}</script>"
      ]
     },
     "metadata": {},
     "output_type": "display_data"
    }
   ],
   "source": [
    "import numpy as np\n",
    "import pandas as pd\n",
    "\n",
    "import matplotlib.pyplot as plt\n",
    "import seaborn as sns\n",
    "%matplotlib inline\n",
    "sns.set()\n",
    "\n",
    "### Plotly\n",
    "from plotly.offline import init_notebook_mode, iplot\n",
    "import plotly.graph_objs as go\n",
    "import plotly.figure_factory as ff\n",
    "import plotly.plotly as py\n",
    "from plotly import tools\n",
    "init_notebook_mode(connected=True)\n",
    "\n",
    "### Removes warnings that occassionally show up\n",
    "import warnings\n",
    "warnings.filterwarnings('ignore')"
   ]
  },
  {
   "cell_type": "markdown",
   "metadata": {},
   "source": [
    "### 6.10.\n",
    "\n",
    "Construct a Metropolis Monte Carlo code for a two-dimensional Ising magnet with 20 * 20 = 400 spins and periodic boundary conditions.  Run the code and collect statistics from the trajectory to analyze the spin statistics.  In particuluar, compute\n",
    "\n",
    "$$ \\langle s_1 \\rangle = {\\lim_{T \\to \\infty} \\bigg \\langle \\frac{1}{N}\\sum_{i=1}^{N}s_i \\bigg \\rangle}_T $$\n",
    "\n",
    "and for various separations between spins $i$ and $j$, compute the correlation function\n",
    "\n",
    "$$ \\langle s_i s_j \\rangle - \\langle s_i \\rangle \\langle s_j \\rangle = \\lim_{T \\to \\infty} \\Bigg[ { \\bigg \\langle \\frac{1}{N} \\sum_{lm}^{(i,j)} s_l s_m \\bigg \\rangle }_T - { \\langle s_i \\rangle }_T^2 \\Bigg], $$\n",
    "\n",
    "where $ \\sum_{lm}^{(i,j)} $ is over all pairs of spins in the lattice for which $l$ and $m$ are separated by the same distance as $i$ and $j$, and $N_{ij}$ us the total number of such pairs in the lattice.  Perform these calculations for temperatures both above and below the critical point.  Try to demonstrate the existance of long range correlations near the critical point and spontaneous symmetry breaking below the critical temperature."
   ]
  },
  {
   "cell_type": "code",
   "execution_count": null,
   "metadata": {
    "collapsed": true
   },
   "outputs": [],
   "source": []
  }
 ],
 "metadata": {
  "kernelspec": {
   "display_name": "Python 3",
   "language": "python",
   "name": "python3"
  },
  "language_info": {
   "codemirror_mode": {
    "name": "ipython",
    "version": 3
   },
   "file_extension": ".py",
   "mimetype": "text/x-python",
   "name": "python",
   "nbconvert_exporter": "python",
   "pygments_lexer": "ipython3",
   "version": "3.6.3"
  }
 },
 "nbformat": 4,
 "nbformat_minor": 2
}
