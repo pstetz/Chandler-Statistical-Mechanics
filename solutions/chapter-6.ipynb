{
 "cells": [
  {
   "cell_type": "markdown",
   "metadata": {},
   "source": [
    "### Imports\n",
    "\n",
    "<style TYPE=\"text/css\">\n",
    "code.has-jax {font: inherit; font-size: 100%; background: inherit; border: inherit;}\n",
    "</style>\n",
    "<script type=\"text/x-mathjax-config\">\n",
    "MathJax.Hub.Config({\n",
    "    tex2jax: {\n",
    "        inlineMath: [['$','$'], ['\\\\(','\\\\)']],\n",
    "        skipTags: ['script', 'noscript', 'style', 'textarea', 'pre'] // removed 'code' entry\n",
    "    }\n",
    "});\n",
    "MathJax.Hub.Queue(function() {\n",
    "    var all = MathJax.Hub.getAllJax(), i;\n",
    "    for(i = 0; i < all.length; i += 1) {\n",
    "        all[i].SourceElement().parentNode.className += ' has-jax';\n",
    "    }\n",
    "});\n",
    "</script>\n",
    "<script type=\"text/javascript\" src=\"http://cdn.mathjax.org/mathjax/latest/MathJax.js?config=TeX-AMS-MML_HTMLorMML\"></script>"
   ]
  },
  {
   "cell_type": "code",
   "execution_count": 1,
   "metadata": {},
   "outputs": [
    {
     "data": {
      "text/html": [
       "<script>requirejs.config({paths: { 'plotly': ['https://cdn.plot.ly/plotly-latest.min']},});if(!window.Plotly) {{require(['plotly'],function(plotly) {window.Plotly=plotly;});}}</script>"
      ],
      "text/vnd.plotly.v1+html": [
       "<script>requirejs.config({paths: { 'plotly': ['https://cdn.plot.ly/plotly-latest.min']},});if(!window.Plotly) {{require(['plotly'],function(plotly) {window.Plotly=plotly;});}}</script>"
      ]
     },
     "metadata": {},
     "output_type": "display_data"
    }
   ],
   "source": [
    "import numpy as np\n",
    "import pandas as pd\n",
    "import math\n",
    "\n",
    "import matplotlib.pyplot as plt\n",
    "import seaborn as sns\n",
    "%matplotlib inline\n",
    "sns.set()\n",
    "\n",
    "### Plotly\n",
    "from plotly.offline import init_notebook_mode, iplot\n",
    "import plotly.graph_objs as go\n",
    "import plotly.figure_factory as ff\n",
    "import plotly.plotly as py\n",
    "from plotly import tools\n",
    "init_notebook_mode(connected=True)\n",
    "\n",
    "### Removes warnings that occassionally show up\n",
    "import warnings\n",
    "warnings.filterwarnings('ignore')"
   ]
  },
  {
   "cell_type": "markdown",
   "metadata": {},
   "source": [
    "### 6.10.\n",
    "\n",
    "Construct a Metropolis Monte Carlo code for a two-dimensional Ising magnet with 20 * 20 = 400 spins and periodic boundary conditions.  Run the code and collect statistics from the trajectory to analyze the spin statistics.  In particuluar, compute\n",
    "\n",
    "$$ \\langle s_1 \\rangle = {\\lim_{T \\to \\infty} \\bigg \\langle \\frac{1}{N}\\sum_{i=1}^{N}s_i \\bigg \\rangle}_T $$\n",
    "\n",
    "and for various separations between spins $i$ and $j$, compute the correlation function\n",
    "\n",
    "$$ \\langle s_i s_j \\rangle - \\langle s_i \\rangle \\langle s_j \\rangle = \\lim_{T \\to \\infty} \\Bigg[ { \\bigg \\langle \\frac{1}{N} \\sum_{lm}^{(i,j)} s_l s_m \\bigg \\rangle }_T - { \\langle s_i \\rangle }_T^2 \\Bigg], $$\n",
    "\n",
    "where $ \\sum_{lm}^{(i,j)} $ is over all pairs of spins in the lattice for which $l$ and $m$ are separated by the same distance as $i$ and $j$, and $N_{ij}$ us the total number of such pairs in the lattice.  Perform these calculations for temperatures both above and below the critical point.  Try to demonstrate the existance of long range correlations near the critical point and spontaneous symmetry breaking below the critical temperature."
   ]
  },
  {
   "cell_type": "code",
   "execution_count": null,
   "metadata": {
    "collapsed": true
   },
   "outputs": [],
   "source": []
  },
  {
   "cell_type": "markdown",
   "metadata": {},
   "source": [
    "### 6.11.\n",
    "\n",
    "Consider the two-dimensional Ising model with an additional external field in the energy,\n",
    "\n",
    "$$ \\sum_{i=1}^N h_i s_i $$\n",
    "\n",
    "where $h_i = +h $ for spins lying on the left half of the top row of the square lattice, $ h_i = -h $ for spins in the right half of the top row, and $ h_i = 0 $ for all other sites.  For large enough $ h $, and for $ T < T_c $, this field will bias interfaces to exist near the middle and side columns of the square lattice."
   ]
  },
  {
   "cell_type": "markdown",
   "metadata": {},
   "source": [
    "&nbsp;&nbsp;&nbsp;&nbsp;&nbsp;&nbsp; (a) Modify the Monte Carlo code given in the Appendix to include this external field and use it to observe fluctuations of the interfaces"
   ]
  },
  {
   "cell_type": "code",
   "execution_count": null,
   "metadata": {
    "collapsed": true
   },
   "outputs": [],
   "source": []
  },
  {
   "cell_type": "markdown",
   "metadata": {},
   "source": [
    "&nbsp;&nbsp;&nbsp;&nbsp;&nbsp;&nbsp; (b) With the modified code at a temperature well below $ T_c $ (e.g., $ T \\approx \\frac{1}{2} T_c $), determine the spin-spin correlation function for pairs of spins situated in the column midway between left and right columns of the square lattice (i.e., the tenth column in the 20 * 20 lattice)."
   ]
  },
  {
   "cell_type": "code",
   "execution_count": null,
   "metadata": {
    "collapsed": true
   },
   "outputs": [],
   "source": []
  },
  {
   "cell_type": "markdown",
   "metadata": {},
   "source": [
    "&nbsp;&nbsp;&nbsp;&nbsp;&nbsp;&nbsp; (c) Perform the same Monte Carlo calulation as in part (b), but now for the fifth column from the left."
   ]
  },
  {
   "cell_type": "code",
   "execution_count": null,
   "metadata": {
    "collapsed": true
   },
   "outputs": [],
   "source": []
  },
  {
   "cell_type": "markdown",
   "metadata": {},
   "source": [
    "&nbsp;&nbsp;&nbsp;&nbsp;&nbsp;&nbsp; (d) Plot the $ \\langle s_i s_j \\rangle - \\langle s_i \\rangle \\langle s_j \\rangle $ determined in parts (b) and (c) as a function of the distance between the spins.  Comment on your observations.  How would your results change if the system size was changed to a 40 * 4o lattice, and the columns being sampled were changed to the tenth and twentieth, respectively?"
   ]
  },
  {
   "cell_type": "code",
   "execution_count": null,
   "metadata": {
    "collapsed": true
   },
   "outputs": [],
   "source": []
  },
  {
   "cell_type": "markdown",
   "metadata": {},
   "source": [
    "### 6.12\n",
    "\n",
    "Your computer contains a pseudo-random-number generator that creates (nearly) random sequences of numbers, x, and distributed uniformly between 0 and 1.  Develop an algorithm that uses this random number generator to create a Gaussian distribution of random numbers.  A Gaussian distribution is\n",
    "\n",
    "$$ p(x) = \\sqrt{\\frac{\\alpha}{\\pi}} e^{-\\alpha x^2}, $$\n",
    "\n",
    "and its first several moments are\n",
    "\n",
    "$$ \\langle x \\rangle = \\langle x^3 \\rangle = 0, $$\n",
    "\n",
    "$$ \\langle x^2 \\rangle = \\frac{1}{2 \\alpha}, $$\n",
    "\n",
    "$$ \\langle x^4 \\rangle = 3 { \\langle x^2 \\rangle } ^2 . $$\n",
    "\n",
    "Study the numerical accuracy and convergence with which your algorithm reproduces these moments.  (Note: There is more than one way to work out this exercise.  One method uses an acceptance-rejection procedure like Metropolis Monte Carlo algorithm.  Another perhaps more efficient procedure employs a change in variables.)"
   ]
  },
  {
   "cell_type": "code",
   "execution_count": 2,
   "metadata": {},
   "outputs": [
    {
     "data": {
      "image/png": "[encoded data removed]",
      "text/plain": [
       "<matplotlib.figure.Figure at 0x10ad28c88>"
      ]
     },
     "metadata": {},
     "output_type": "display_data"
    }
   ],
   "source": [
    "N = 5000\n",
    "alpha = 0.5\n",
    "\n",
    "def gauss_sample(size, alpha):\n",
    "    \"\"\"\n",
    "    Method 1: acceptance-rejection procedure.  (This is not very efficient!)\n",
    "    \"\"\"\n",
    "    ret = list()\n",
    "    while len(ret) < size:\n",
    "        sample_1 = 1000 * (np.random.random() - 0.5)\n",
    "        prob = np.sqrt(alpha / math.pi) * np.exp(- alpha * (sample_1 ** 2))\n",
    "        sample_2 = np.random.random()\n",
    "        if sample_2 < prob:\n",
    "            ret.append(sample_1)\n",
    "    return ret\n",
    "\n",
    "mine   = gauss_sample(N, alpha)\n",
    "actual = np.random.normal(size=N)\n",
    "\n",
    "\n",
    "### Plotting\n",
    "num_bins = 50\n",
    "plt.hist(mine, bins=num_bins, label=\"Mine\")\n",
    "plt.hist(actual, bins=num_bins, label=\"Actual\")\n",
    "plt.legend();"
   ]
  },
  {
   "cell_type": "code",
   "execution_count": 7,
   "metadata": {},
   "outputs": [
    {
     "data": {
      "text/html": [
       "<div>\n",
       "<style>\n",
       "    .dataframe thead tr:only-child th {\n",
       "        text-align: right;\n",
       "    }\n",
       "\n",
       "    .dataframe thead th {\n",
       "        text-align: left;\n",
       "    }\n",
       "\n",
       "    .dataframe tbody tr th {\n",
       "        vertical-align: top;\n",
       "    }\n",
       "</style>\n",
       "<table border=\"1\" class=\"dataframe\">\n",
       "  <thead>\n",
       "    <tr style=\"text-align: right;\">\n",
       "      <th></th>\n",
       "      <th>⟨x⟩</th>\n",
       "      <th>⟨x**2⟩</th>\n",
       "      <th>⟨x**3⟩</th>\n",
       "      <th>⟨x**4⟩</th>\n",
       "    </tr>\n",
       "  </thead>\n",
       "  <tbody>\n",
       "    <tr>\n",
       "      <th>Mine</th>\n",
       "      <td>-0.019354</td>\n",
       "      <td>0.979806</td>\n",
       "      <td>-0.089747</td>\n",
       "      <td>2.927241</td>\n",
       "    </tr>\n",
       "    <tr>\n",
       "      <th>Actual</th>\n",
       "      <td>-0.002895</td>\n",
       "      <td>1.017554</td>\n",
       "      <td>0.042820</td>\n",
       "      <td>3.092933</td>\n",
       "    </tr>\n",
       "  </tbody>\n",
       "</table>\n",
       "</div>"
      ],
      "text/plain": [
       "             ⟨x⟩    ⟨x**2⟩    ⟨x**3⟩    ⟨x**4⟩\n",
       "Mine   -0.019354  0.979806 -0.089747  2.927241\n",
       "Actual -0.002895  1.017554  0.042820  3.092933"
      ]
     },
     "execution_count": 7,
     "metadata": {},
     "output_type": "execute_result"
    }
   ],
   "source": [
    "def get_moment(dist, moment_num):\n",
    "    \"\"\"\n",
    "    Calculates a specific moment for a distribution\n",
    "    \"\"\"\n",
    "    moment = sum([math.pow(x, moment_num) for x in dist]) / len(dist)\n",
    "    return moment\n",
    "\n",
    "def characteristics(dist):\n",
    "    \"\"\"\n",
    "    Returns the first four moments of a distribution\n",
    "    \"\"\"\n",
    "    moments = list()\n",
    "    moments.append(get_moment(dist, 1))\n",
    "    moments.append(get_moment(dist, 2))\n",
    "    moments.append(get_moment(dist, 3))\n",
    "    moments.append(get_moment(dist, 4))\n",
    "    return moments\n",
    "\n",
    "cols = [\"⟨x⟩\", \"⟨x**2⟩\", \"⟨x**3⟩\", \"⟨x**4⟩\"]\n",
    "\n",
    "mine_char   = pd.DataFrame([characteristics(mine)], columns=cols)\n",
    "actual_char = pd.DataFrame([characteristics(actual)], columns=cols)\n",
    "\n",
    "full = pd.concat([mine_char, actual_char])\n",
    "full.index = [\"Mine\", \"Actual\"]\n",
    "\n",
    "\"\"\"\n",
    "We're expecting the moments of both distributions to be very similar!\n",
    "\n",
    "Also, as stated in the problem...\n",
    "\n",
    "• ⟨x⟩    ~ 0\n",
    "\n",
    "• ⟨x**2⟩ ~ (1 / 2α)\n",
    "        ~ 1\n",
    "        \n",
    "• ⟨x**3⟩ ~ 0\n",
    "\n",
    "• ⟨x**4⟩ ~ 3 * ( ⟨x**2⟩ ) ** 2\n",
    "        ~ 3\n",
    "\"\"\"\n",
    "full"
   ]
  },
  {
   "cell_type": "code",
   "execution_count": null,
   "metadata": {
    "collapsed": true
   },
   "outputs": [],
   "source": []
  }
 ],
 "metadata": {
  "kernelspec": {
   "display_name": "Python 3",
   "language": "python",
   "name": "python3"
  },
  "language_info": {
   "codemirror_mode": {
    "name": "ipython",
    "version": 3
   },
   "file_extension": ".py",
   "mimetype": "text/x-python",
   "name": "python",
   "nbconvert_exporter": "python",
   "pygments_lexer": "ipython3",
   "version": "3.6.3"
  }
 },
 "nbformat": 4,
 "nbformat_minor": 2
}
